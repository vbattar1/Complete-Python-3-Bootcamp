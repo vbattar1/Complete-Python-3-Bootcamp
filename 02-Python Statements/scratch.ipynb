{
 "cells": [
  {
   "cell_type": "code",
   "execution_count": 1,
   "id": "6dc854ae",
   "metadata": {},
   "outputs": [
    {
     "data": {
      "text/plain": [
       "[0, 2, 4, 6, 8, 10]"
      ]
     },
     "execution_count": 1,
     "metadata": {},
     "output_type": "execute_result"
    }
   ],
   "source": [
    "list(range(0,12,2))"
   ]
  },
  {
   "cell_type": "code",
   "execution_count": 3,
   "id": "a0ccd64d",
   "metadata": {},
   "outputs": [
    {
     "data": {
      "text/plain": [
       "[0, 10, 20, 30, 40, 50, 60, 70, 80, 90, 100]"
      ]
     },
     "execution_count": 3,
     "metadata": {},
     "output_type": "execute_result"
    }
   ],
   "source": [
    "list(range(0,110,10))"
   ]
  },
  {
   "cell_type": "code",
   "execution_count": 4,
   "id": "3391634c",
   "metadata": {},
   "outputs": [
    {
     "data": {
      "text/plain": [
       "<enumerate at 0x155dd87fe40>"
      ]
     },
     "execution_count": 4,
     "metadata": {},
     "output_type": "execute_result"
    }
   ],
   "source": [
    "enumerate('abcde')"
   ]
  },
  {
   "cell_type": "code",
   "execution_count": 5,
   "id": "b95d81c2",
   "metadata": {},
   "outputs": [
    {
     "name": "stdout",
     "output_type": "stream",
     "text": [
      "At index 0 the letter is a\n",
      "At index 1 the letter is b\n",
      "At index 2 the letter is c\n",
      "At index 3 the letter is d\n",
      "At index 4 the letter is e\n"
     ]
    }
   ],
   "source": [
    "for i,letter in enumerate('abcde'):\n",
    "    print(\"At index {} the letter is {}\" .format(i,letter))"
   ]
  },
  {
   "cell_type": "code",
   "execution_count": 6,
   "id": "49bb2626",
   "metadata": {},
   "outputs": [
    {
     "data": {
      "text/plain": [
       "[(0, 'a'), (1, 'b'), (2, 'c'), (3, 'd'), (4, 'e')]"
      ]
     },
     "execution_count": 6,
     "metadata": {},
     "output_type": "execute_result"
    }
   ],
   "source": [
    "list(enumerate('abcde'))"
   ]
  },
  {
   "cell_type": "code",
   "execution_count": 7,
   "id": "3af81c24",
   "metadata": {},
   "outputs": [],
   "source": [
    "from random import shuffle"
   ]
  },
  {
   "cell_type": "code",
   "execution_count": 8,
   "id": "0541be5d",
   "metadata": {},
   "outputs": [],
   "source": [
    "mylist = [10,30, 40, 100]"
   ]
  },
  {
   "cell_type": "code",
   "execution_count": 9,
   "id": "a3fad428",
   "metadata": {},
   "outputs": [
    {
     "data": {
      "text/plain": [
       "list"
      ]
     },
     "execution_count": 9,
     "metadata": {},
     "output_type": "execute_result"
    }
   ],
   "source": [
    "type(mylist)"
   ]
  },
  {
   "cell_type": "code",
   "execution_count": 10,
   "id": "2ce92d01",
   "metadata": {},
   "outputs": [],
   "source": [
    "shuffle(mylist)"
   ]
  },
  {
   "cell_type": "code",
   "execution_count": 11,
   "id": "4609b077",
   "metadata": {},
   "outputs": [
    {
     "data": {
      "text/plain": [
       "[30, 100, 10, 40]"
      ]
     },
     "execution_count": 11,
     "metadata": {},
     "output_type": "execute_result"
    }
   ],
   "source": [
    "mylist"
   ]
  },
  {
   "cell_type": "code",
   "execution_count": 12,
   "id": "519d7064",
   "metadata": {},
   "outputs": [
    {
     "name": "stdout",
     "output_type": "stream",
     "text": [
      "Enter somethning:ye mum\n"
     ]
    },
    {
     "data": {
      "text/plain": [
       "'ye mum'"
      ]
     },
     "execution_count": 12,
     "metadata": {},
     "output_type": "execute_result"
    }
   ],
   "source": [
    "input('Enter somethning:')"
   ]
  },
  {
   "cell_type": "code",
   "execution_count": 13,
   "id": "0b1af72b",
   "metadata": {},
   "outputs": [],
   "source": [
    "lst = [x.upper() for x in 'vishank']"
   ]
  },
  {
   "cell_type": "code",
   "execution_count": 14,
   "id": "55bcc113",
   "metadata": {},
   "outputs": [
    {
     "data": {
      "text/plain": [
       "['V', 'I', 'S', 'H', 'A', 'N', 'K']"
      ]
     },
     "execution_count": 14,
     "metadata": {},
     "output_type": "execute_result"
    }
   ],
   "source": [
    "lst"
   ]
  },
  {
   "cell_type": "code",
   "execution_count": 16,
   "id": "e96a30c1",
   "metadata": {},
   "outputs": [
    {
     "data": {
      "text/plain": [
       "[0, 8, 64]"
      ]
     },
     "execution_count": 16,
     "metadata": {},
     "output_type": "execute_result"
    }
   ],
   "source": [
    "lst = [x**3 for x in range(0,5) if x%2==0]\n",
    "lst"
   ]
  },
  {
   "cell_type": "code",
   "execution_count": 1,
   "id": "2934062f",
   "metadata": {},
   "outputs": [],
   "source": [
    "def check_even_list(lst):\n",
    "    evenLst = []\n",
    "    for num in lst:\n",
    "        if num%2==0:\n",
    "            evenLst.append(num)\n",
    "    return evenLst"
   ]
  },
  {
   "cell_type": "code",
   "execution_count": 3,
   "id": "7d496a75",
   "metadata": {},
   "outputs": [
    {
     "data": {
      "text/plain": [
       "[]"
      ]
     },
     "execution_count": 3,
     "metadata": {},
     "output_type": "execute_result"
    }
   ],
   "source": [
    "check_even_list([1,3,5])"
   ]
  },
  {
   "cell_type": "code",
   "execution_count": 5,
   "id": "68f90697",
   "metadata": {},
   "outputs": [],
   "source": [
    "def myfunc(string):\n",
    "    counter = 0\n",
    "    newStr = ''\n",
    "    for let in string:\n",
    "        if counter%2==0:\n",
    "            newStr += let.upper()\n",
    "        else:\n",
    "            newStr+=let\n",
    "        counter+=1\n",
    "    return newStr"
   ]
  },
  {
   "cell_type": "code",
   "execution_count": 6,
   "id": "0d1461ed",
   "metadata": {
    "scrolled": true
   },
   "outputs": [
    {
     "data": {
      "text/plain": [
       "'AnThRoPoMoRpHiSm'"
      ]
     },
     "execution_count": 6,
     "metadata": {},
     "output_type": "execute_result"
    }
   ],
   "source": [
    "myfunc('anthropomorphism')"
   ]
  },
  {
   "cell_type": "code",
   "execution_count": 7,
   "id": "fd7008ed",
   "metadata": {},
   "outputs": [
    {
     "ename": "TypeError",
     "evalue": "'type' object is not subscriptable",
     "output_type": "error",
     "traceback": [
      "\u001b[1;31m---------------------------------------------------------------------------\u001b[0m",
      "\u001b[1;31mTypeError\u001b[0m                                 Traceback (most recent call last)",
      "\u001b[1;32m<ipython-input-7-805d6151234b>\u001b[0m in \u001b[0;36m<module>\u001b[1;34m\u001b[0m\n\u001b[1;32m----> 1\u001b[1;33m \u001b[0mlist\u001b[0m\u001b[1;33m[\u001b[0m\u001b[1;33m(\u001b[0m\u001b[1;36m1\u001b[0m\u001b[1;33m,\u001b[0m\u001b[1;36m2\u001b[0m\u001b[1;33m,\u001b[0m\u001b[1;36m3\u001b[0m\u001b[1;33m)\u001b[0m\u001b[1;33m]\u001b[0m\u001b[1;33m\u001b[0m\u001b[1;33m\u001b[0m\u001b[0m\n\u001b[0m",
      "\u001b[1;31mTypeError\u001b[0m: 'type' object is not subscriptable"
     ]
    }
   ],
   "source": [
    "list[(1,2,3)]"
   ]
  },
  {
   "cell_type": "code",
   "execution_count": 8,
   "id": "125650ec",
   "metadata": {},
   "outputs": [
    {
     "ename": "NameError",
     "evalue": "name 'a' is not defined",
     "output_type": "error",
     "traceback": [
      "\u001b[1;31m---------------------------------------------------------------------------\u001b[0m",
      "\u001b[1;31mNameError\u001b[0m                                 Traceback (most recent call last)",
      "\u001b[1;32m<ipython-input-8-911dd9da4844>\u001b[0m in \u001b[0;36m<module>\u001b[1;34m\u001b[0m\n\u001b[1;32m----> 1\u001b[1;33m \u001b[0mlist\u001b[0m\u001b[1;33m(\u001b[0m\u001b[0ma\u001b[0m\u001b[1;33m,\u001b[0m\u001b[0mb\u001b[0m\u001b[1;33m,\u001b[0m\u001b[0mc\u001b[0m\u001b[1;33m)\u001b[0m\u001b[1;33m\u001b[0m\u001b[1;33m\u001b[0m\u001b[0m\n\u001b[0m",
      "\u001b[1;31mNameError\u001b[0m: name 'a' is not defined"
     ]
    }
   ],
   "source": [
    "list(a,b,c)"
   ]
  },
  {
   "cell_type": "code",
   "execution_count": 9,
   "id": "058ecf7a",
   "metadata": {},
   "outputs": [
    {
     "ename": "TypeError",
     "evalue": "list expected at most 1 argument, got 3",
     "output_type": "error",
     "traceback": [
      "\u001b[1;31m---------------------------------------------------------------------------\u001b[0m",
      "\u001b[1;31mTypeError\u001b[0m                                 Traceback (most recent call last)",
      "\u001b[1;32m<ipython-input-9-86b0f2b7ea1f>\u001b[0m in \u001b[0;36m<module>\u001b[1;34m\u001b[0m\n\u001b[1;32m----> 1\u001b[1;33m \u001b[0mlist\u001b[0m\u001b[1;33m(\u001b[0m\u001b[1;36m1\u001b[0m\u001b[1;33m,\u001b[0m\u001b[1;36m2\u001b[0m\u001b[1;33m,\u001b[0m\u001b[1;36m3\u001b[0m\u001b[1;33m)\u001b[0m\u001b[1;33m\u001b[0m\u001b[1;33m\u001b[0m\u001b[0m\n\u001b[0m",
      "\u001b[1;31mTypeError\u001b[0m: list expected at most 1 argument, got 3"
     ]
    }
   ],
   "source": [
    "list(1,2,3)"
   ]
  },
  {
   "cell_type": "code",
   "execution_count": 16,
   "id": "5465683f",
   "metadata": {},
   "outputs": [
    {
     "name": "stdout",
     "output_type": "stream",
     "text": [
      "ye mum\n"
     ]
    }
   ],
   "source": [
    "counting = True\n",
    "counting = not counting\n",
    "counting\n",
    "counting = not counting\n",
    "counting\n",
    "if counting:\n",
    "    print('ye mum')"
   ]
  },
  {
   "cell_type": "code",
   "execution_count": 20,
   "id": "f71c0082",
   "metadata": {},
   "outputs": [
    {
     "name": "stdout",
     "output_type": "stream",
     "text": [
      "Substring 'geeks' found at index: -1\n",
      "Substring 'for ' found at index: 7\n",
      "Doesn't contains given substring\n"
     ]
    }
   ],
   "source": [
    "\n",
    "word = 'gee ks for ge eks'\n",
    "  \n",
    "# returns first occurrence of Substring\n",
    "result = word.find('geeks')\n",
    "print (\"Substring 'geeks' found at index:\", result )\n",
    "  \n",
    "result = word.find('for')\n",
    "print (\"Substring 'for ' found at index:\", result )\n",
    "  \n",
    "# How to use find()\n",
    "if (word.find('pawan') != -1):\n",
    "    print (\"Contains given substring \")\n",
    "else:\n",
    "    print (\"Doesn't contains given substring\")"
   ]
  },
  {
   "cell_type": "code",
   "execution_count": 21,
   "id": "c0a3948e",
   "metadata": {},
   "outputs": [
    {
     "data": {
      "text/plain": [
       "'2'"
      ]
     },
     "execution_count": 21,
     "metadata": {},
     "output_type": "execute_result"
    }
   ],
   "source": [
    "'' + str(2)"
   ]
  },
  {
   "cell_type": "code",
   "execution_count": null,
   "id": "2808db7e",
   "metadata": {},
   "outputs": [],
   "source": []
  },
  {
   "cell_type": "code",
   "execution_count": 22,
   "id": "75aea7d3",
   "metadata": {},
   "outputs": [
    {
     "data": {
      "text/plain": [
       "3"
      ]
     },
     "execution_count": 22,
     "metadata": {},
     "output_type": "execute_result"
    }
   ],
   "source": [
    "'1240075'.find('007')"
   ]
  },
  {
   "cell_type": "code",
   "execution_count": null,
   "id": "dc8a8c79",
   "metadata": {},
   "outputs": [],
   "source": []
  }
 ],
 "metadata": {
  "kernelspec": {
   "display_name": "Python 3",
   "language": "python",
   "name": "python3"
  },
  "language_info": {
   "codemirror_mode": {
    "name": "ipython",
    "version": 3
   },
   "file_extension": ".py",
   "mimetype": "text/x-python",
   "name": "python",
   "nbconvert_exporter": "python",
   "pygments_lexer": "ipython3",
   "version": "3.8.8"
  }
 },
 "nbformat": 4,
 "nbformat_minor": 5
}
