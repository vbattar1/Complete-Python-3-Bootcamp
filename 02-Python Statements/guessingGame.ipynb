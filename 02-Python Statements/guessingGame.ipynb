{
 "cells": [
  {
   "cell_type": "code",
   "execution_count": null,
   "id": "213393e7",
   "metadata": {},
   "outputs": [],
   "source": [
    "from random import randint\n",
    "randNum = randint(0,100)\n",
    "print(randNum)\n",
    "guess = int(input('Enter your guess here: '))\n",
    "\n",
    "firstGuess = guess\n",
    "turns = 1\n",
    "\n",
    "\n",
    "while guess != randNum:\n",
    "    guess = int(input('Enter your guess here: '))\n",
    "\n",
    "    if guess<0 or guess>100:\n",
    "        print('OUT OF BOUNDS')\n",
    "        turns +=1\n",
    "        guess = int(input('Enter your guess here: '))\n",
    "        \"\"\"    elif firstGuess-guess <= 10:\n",
    "        print('WARM! GUESS AGAIN')\n",
    "        guess = int(input('Enter your guess here: '))\n",
    "        turns+=1\n",
    "        \n",
    "\n",
    "else:\n",
    "    print ('YOU GUESSED CORRECTLY! IT TOOK YOU {} TURNS TO GUESS THE RIGHT ANSWER' .format(turns))\n",
    "\"\"\"\n"
   ]
  },
  {
   "cell_type": "code",
   "execution_count": null,
   "id": "da5bef09",
   "metadata": {},
   "outputs": [],
   "source": [
    "lst = [1,2,3,4,5,6]\n"
   ]
  },
  {
   "cell_type": "code",
   "execution_count": null,
   "id": "43f67c3e",
   "metadata": {},
   "outputs": [],
   "source": [
    "lst.count(2)"
   ]
  },
  {
   "cell_type": "code",
   "execution_count": null,
   "id": "b9326fb5",
   "metadata": {},
   "outputs": [],
   "source": []
  }
 ],
 "metadata": {
  "kernelspec": {
   "display_name": "Python 3",
   "language": "python",
   "name": "python3"
  },
  "language_info": {
   "codemirror_mode": {
    "name": "ipython",
    "version": 3
   },
   "file_extension": ".py",
   "mimetype": "text/x-python",
   "name": "python",
   "nbconvert_exporter": "python",
   "pygments_lexer": "ipython3",
   "version": "3.8.8"
  }
 },
 "nbformat": 4,
 "nbformat_minor": 5
}
